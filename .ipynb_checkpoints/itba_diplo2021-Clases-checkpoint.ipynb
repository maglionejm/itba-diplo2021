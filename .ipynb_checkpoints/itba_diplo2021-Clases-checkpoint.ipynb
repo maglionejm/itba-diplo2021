{
 "cells": [
  {
   "cell_type": "code",
   "execution_count": 1,
   "id": "04813be0-4c9f-4463-b374-492ee13b5c24",
   "metadata": {},
   "outputs": [
    {
     "name": "stdout",
     "output_type": "stream",
     "text": [
      "2\n"
     ]
    }
   ],
   "source": [
    "a = 1\n",
    "b = 1\n",
    "\n",
    "print(a+b)"
   ]
  },
  {
   "cell_type": "code",
   "execution_count": null,
   "id": "9a2f4281-1c4f-45c1-a7d8-88a76bc8e68e",
   "metadata": {},
   "outputs": [],
   "source": []
  }
 ],
 "metadata": {
  "kernelspec": {
   "display_name": "Python [conda env:itba_diplo2021]",
   "language": "python",
   "name": "conda-env-itba_diplo2021-py"
  },
  "language_info": {
   "codemirror_mode": {
    "name": "ipython",
    "version": 3
   },
   "file_extension": ".py",
   "mimetype": "text/x-python",
   "name": "python",
   "nbconvert_exporter": "python",
   "pygments_lexer": "ipython3",
   "version": "3.8.10"
  }
 },
 "nbformat": 4,
 "nbformat_minor": 5
}
