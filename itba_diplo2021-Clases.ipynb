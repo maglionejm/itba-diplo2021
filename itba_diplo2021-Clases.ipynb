{
 "cells": [
  {
   "cell_type": "markdown",
   "id": "ea9776e4-098b-49e8-ac5b-2158ddbd651e",
   "metadata": {},
   "source": [
    "\n",
    "# CLASE 1\n"
   ]
  },
  {
   "cell_type": "code",
   "execution_count": 83,
   "id": "81728f3e-0737-4bdf-9431-9187e6156284",
   "metadata": {},
   "outputs": [
    {
     "name": "stdout",
     "output_type": "stream",
     "text": [
      "1\n",
      "2\n",
      "3\n",
      "4\n",
      "5\n",
      "6\n"
     ]
    }
   ],
   "source": [
    "tupla = (1,2,3,4,5,6)\n",
    "\n",
    "for element in tupla:\n",
    "    print(element)"
   ]
  },
  {
   "cell_type": "code",
   "execution_count": 84,
   "id": "9a2f4281-1c4f-45c1-a7d8-88a76bc8e68e",
   "metadata": {},
   "outputs": [
    {
     "name": "stdout",
     "output_type": "stream",
     "text": [
      "CPU times: user 20 µs, sys: 0 ns, total: 20 µs\n",
      "Wall time: 24.1 µs\n"
     ]
    },
    {
     "data": {
      "text/plain": [
       "[0, 1, 2, 3, 4, 5, 6, 7, 8, 9]"
      ]
     },
     "execution_count": 84,
     "metadata": {},
     "output_type": "execute_result"
    }
   ],
   "source": [
    "%%time\n",
    "list = []\n",
    "for i in range(0,10):\n",
    "    list.append(i)\n",
    "list"
   ]
  },
  {
   "cell_type": "markdown",
   "id": "a238b651-700f-4836-9266-aa941252834f",
   "metadata": {},
   "source": [
    "**LIST COMPREHENSION**"
   ]
  },
  {
   "cell_type": "code",
   "execution_count": 85,
   "id": "12291f26-66d3-4200-b856-314c9e375e65",
   "metadata": {},
   "outputs": [
    {
     "name": "stdout",
     "output_type": "stream",
     "text": [
      "CPU times: user 22 µs, sys: 1e+03 ns, total: 23 µs\n",
      "Wall time: 24.1 µs\n"
     ]
    },
    {
     "data": {
      "text/plain": [
       "[0, 1, 2, 3, 4, 5, 6, 7, 8, 9]"
      ]
     },
     "execution_count": 85,
     "metadata": {},
     "output_type": "execute_result"
    }
   ],
   "source": [
    "%%time\n",
    "list = [i for i in range(10)]\n",
    "list"
   ]
  },
  {
   "cell_type": "markdown",
   "id": "0efc53c3-063e-45fc-a7e8-2bd69fcd5273",
   "metadata": {},
   "source": [
    "**DICT COMPREHENSION**"
   ]
  },
  {
   "cell_type": "code",
   "execution_count": 86,
   "id": "45f14e8e-9351-4f5f-9fbd-d5e85d7d3b44",
   "metadata": {},
   "outputs": [
    {
     "name": "stdout",
     "output_type": "stream",
     "text": [
      "CPU times: user 28 µs, sys: 0 ns, total: 28 µs\n",
      "Wall time: 32.9 µs\n"
     ]
    },
    {
     "data": {
      "text/plain": [
       "{0, 1, 2, 3, 4, 5, 6, 7, 8, 9}"
      ]
     },
     "execution_count": 86,
     "metadata": {},
     "output_type": "execute_result"
    }
   ],
   "source": [
    "%%time\n",
    "dict = {i for i in range(10)}\n",
    "dict"
   ]
  },
  {
   "cell_type": "code",
   "execution_count": 87,
   "id": "ac1a01ce-8617-458d-8def-281144d4f500",
   "metadata": {},
   "outputs": [
    {
     "name": "stdout",
     "output_type": "stream",
     "text": [
      "menor\n",
      "menor\n",
      "menor\n",
      "mayor\n",
      "mayor\n",
      "mayor\n",
      "mayor\n",
      "mayor\n",
      "mayor\n",
      "mayor\n",
      "mayor\n",
      "mayor\n",
      "mayor\n"
     ]
    }
   ],
   "source": [
    "list = [-2,-1,0,1,2,3,4,5,6,7,8,9,10]\n",
    "for i in list:\n",
    "    if i > 0:\n",
    "        print('mayor')\n",
    "    else: \n",
    "        print('menor')"
   ]
  },
  {
   "cell_type": "code",
   "execution_count": 88,
   "id": "f6a5f943-696a-4735-972f-8c2152bbc782",
   "metadata": {},
   "outputs": [
    {
     "name": "stdout",
     "output_type": "stream",
     "text": [
      "menor\n",
      "menor\n",
      "intermedio\n",
      "intermedio\n",
      "mayor\n",
      "mayor\n",
      "mayor\n",
      "mayor\n",
      "mayor\n",
      "mayor\n",
      "mayor\n",
      "mayor\n",
      "mayor\n"
     ]
    }
   ],
   "source": [
    "for i in list:\n",
    "    if i > 1:\n",
    "        print('mayor')\n",
    "    elif i > -1:\n",
    "        print('intermedio')\n",
    "    else: \n",
    "        print('menor')"
   ]
  },
  {
   "cell_type": "code",
   "execution_count": 89,
   "id": "b61163ce-8f7d-49e3-81f6-dc0496fb68ec",
   "metadata": {},
   "outputs": [
    {
     "name": "stdout",
     "output_type": "stream",
     "text": [
      "1\n"
     ]
    }
   ],
   "source": [
    "from helper import funcion\n",
    "funcion(1)"
   ]
  },
  {
   "cell_type": "markdown",
   "id": "8409a8fe-e7e4-40c7-9ed9-a4037bd23149",
   "metadata": {},
   "source": [
    "**Classes**"
   ]
  },
  {
   "cell_type": "code",
   "execution_count": 109,
   "id": "b25aa9a4-3092-4588-bb69-6d2708a105d3",
   "metadata": {},
   "outputs": [],
   "source": [
    "class ComplexNumbers:\n",
    "    def __init__(self,real,imag):\n",
    "        self.real = real\n",
    "        self.imag = imag\n",
    "    def print(self):\n",
    "        print(f'La parte real es {self.real} y la parte imaginaria es {self.imag}')"
   ]
  },
  {
   "cell_type": "code",
   "execution_count": 110,
   "id": "e827a167-1e66-4a4f-bdf6-9151036411ce",
   "metadata": {},
   "outputs": [],
   "source": [
    "complex_number1 = ComplexNumbers(5,7)"
   ]
  },
  {
   "cell_type": "code",
   "execution_count": 111,
   "id": "6c426053-677c-4857-a77f-f4674ccb6535",
   "metadata": {},
   "outputs": [
    {
     "data": {
      "text/plain": [
       "5"
      ]
     },
     "execution_count": 111,
     "metadata": {},
     "output_type": "execute_result"
    }
   ],
   "source": [
    "complex_number1.real"
   ]
  },
  {
   "cell_type": "code",
   "execution_count": 112,
   "id": "45530394-246c-4fde-9807-604f94baf667",
   "metadata": {},
   "outputs": [
    {
     "data": {
      "text/plain": [
       "7"
      ]
     },
     "execution_count": 112,
     "metadata": {},
     "output_type": "execute_result"
    }
   ],
   "source": [
    "complex_number1.imag"
   ]
  },
  {
   "cell_type": "code",
   "execution_count": 113,
   "id": "3765ed2a-4d1d-4971-b319-f502cea8b69a",
   "metadata": {},
   "outputs": [
    {
     "name": "stdout",
     "output_type": "stream",
     "text": [
      "La parte real es 5 y la parte imaginaria es 7\n"
     ]
    }
   ],
   "source": [
    "complex_number1.print()"
   ]
  },
  {
   "cell_type": "code",
   "execution_count": null,
   "id": "81e68708-3ac8-4546-9991-f629e32cd88b",
   "metadata": {},
   "outputs": [],
   "source": []
  },
  {
   "cell_type": "code",
   "execution_count": null,
   "id": "14385a8f-7855-4ba5-8f80-5fb6db0209e3",
   "metadata": {},
   "outputs": [],
   "source": []
  },
  {
   "cell_type": "code",
   "execution_count": null,
   "id": "515ccb99-6ec2-4385-91ba-244c4f58494c",
   "metadata": {},
   "outputs": [],
   "source": []
  },
  {
   "cell_type": "markdown",
   "id": "44cc9785-937c-48b3-916b-82493bcc1f47",
   "metadata": {},
   "source": [
    "# CLASE 2"
   ]
  },
  {
   "cell_type": "markdown",
   "id": "eb3a7ea1-da1a-45c1-8b77-a3a4dd0e30ad",
   "metadata": {},
   "source": [
    "**Vectores y matrices**"
   ]
  },
  {
   "cell_type": "code",
   "execution_count": 90,
   "id": "a96d0b27-d5b5-411b-8f79-49b422597294",
   "metadata": {},
   "outputs": [],
   "source": [
    "import numpy as np"
   ]
  },
  {
   "cell_type": "markdown",
   "id": "646f7fbb-239d-4d86-b2eb-08071bd69d1f",
   "metadata": {},
   "source": [
    "Si el shape tiene:\n",
    "<br />1 elemento = vector\n",
    "<br />2 elementos = matriz\n",
    "<br />3 elementos = tensor"
   ]
  },
  {
   "cell_type": "code",
   "execution_count": 91,
   "id": "b012ef73-f44b-49f9-804b-cd4d013a3d39",
   "metadata": {},
   "outputs": [],
   "source": [
    "vector = np.array([2,3,4])"
   ]
  },
  {
   "cell_type": "code",
   "execution_count": 92,
   "id": "b7379007-e636-4c83-aef2-d499a6e93cb8",
   "metadata": {},
   "outputs": [
    {
     "data": {
      "text/plain": [
       "(3,)"
      ]
     },
     "execution_count": 92,
     "metadata": {},
     "output_type": "execute_result"
    }
   ],
   "source": [
    "vector.shape"
   ]
  },
  {
   "cell_type": "code",
   "execution_count": 13,
   "id": "9b807495-0d38-4c78-a6d2-368d91192a78",
   "metadata": {},
   "outputs": [
    {
     "name": "stderr",
     "output_type": "stream",
     "text": [
      "<>:1: SyntaxWarning: list indices must be integers or slices, not tuple; perhaps you missed a comma?\n",
      "<>:1: SyntaxWarning: list indices must be integers or slices, not tuple; perhaps you missed a comma?\n",
      "<ipython-input-13-da00ce183db6>:1: SyntaxWarning: list indices must be integers or slices, not tuple; perhaps you missed a comma?\n",
      "  matrix = np.array([[[[1,2],[2,3],[3,4]][4,5],[5,6],[6,7]]])\n"
     ]
    },
    {
     "ename": "TypeError",
     "evalue": "list indices must be integers or slices, not tuple",
     "output_type": "error",
     "traceback": [
      "\u001b[0;31m---------------------------------------------------------------------------\u001b[0m",
      "\u001b[0;31mTypeError\u001b[0m                                 Traceback (most recent call last)",
      "\u001b[0;32m<ipython-input-13-da00ce183db6>\u001b[0m in \u001b[0;36m<module>\u001b[0;34m\u001b[0m\n\u001b[0;32m----> 1\u001b[0;31m \u001b[0mmatrix\u001b[0m \u001b[0;34m=\u001b[0m \u001b[0mnp\u001b[0m\u001b[0;34m.\u001b[0m\u001b[0marray\u001b[0m\u001b[0;34m(\u001b[0m\u001b[0;34m[\u001b[0m\u001b[0;34m[\u001b[0m\u001b[0;34m[\u001b[0m\u001b[0;34m[\u001b[0m\u001b[0;36m1\u001b[0m\u001b[0;34m,\u001b[0m\u001b[0;36m2\u001b[0m\u001b[0;34m]\u001b[0m\u001b[0;34m,\u001b[0m\u001b[0;34m[\u001b[0m\u001b[0;36m2\u001b[0m\u001b[0;34m,\u001b[0m\u001b[0;36m3\u001b[0m\u001b[0;34m]\u001b[0m\u001b[0;34m,\u001b[0m\u001b[0;34m[\u001b[0m\u001b[0;36m3\u001b[0m\u001b[0;34m,\u001b[0m\u001b[0;36m4\u001b[0m\u001b[0;34m]\u001b[0m\u001b[0;34m]\u001b[0m\u001b[0;34m[\u001b[0m\u001b[0;36m4\u001b[0m\u001b[0;34m,\u001b[0m\u001b[0;36m5\u001b[0m\u001b[0;34m]\u001b[0m\u001b[0;34m,\u001b[0m\u001b[0;34m[\u001b[0m\u001b[0;36m5\u001b[0m\u001b[0;34m,\u001b[0m\u001b[0;36m6\u001b[0m\u001b[0;34m]\u001b[0m\u001b[0;34m,\u001b[0m\u001b[0;34m[\u001b[0m\u001b[0;36m6\u001b[0m\u001b[0;34m,\u001b[0m\u001b[0;36m7\u001b[0m\u001b[0;34m]\u001b[0m\u001b[0;34m]\u001b[0m\u001b[0;34m]\u001b[0m\u001b[0;34m)\u001b[0m\u001b[0;34m\u001b[0m\u001b[0;34m\u001b[0m\u001b[0m\n\u001b[0m\u001b[1;32m      2\u001b[0m \u001b[0mmatrix\u001b[0m\u001b[0;34m\u001b[0m\u001b[0;34m\u001b[0m\u001b[0m\n",
      "\u001b[0;31mTypeError\u001b[0m: list indices must be integers or slices, not tuple"
     ]
    }
   ],
   "source": [
    "matrix = np.array([[[[1,2],[2,3],[3,4]],[4,5],[5,6],[6,7]]])\n",
    "matrix"
   ]
  },
  {
   "cell_type": "code",
   "execution_count": 14,
   "id": "3f8f7c7e-e4a9-4364-b53d-da152badaaca",
   "metadata": {},
   "outputs": [],
   "source": [
    "tensor = np.random.randn(200,227,227,3)"
   ]
  },
  {
   "cell_type": "code",
   "execution_count": 16,
   "id": "5955e5f5-2b9b-432e-94a7-5b4b9dd5ae0b",
   "metadata": {},
   "outputs": [
    {
     "data": {
      "text/plain": [
       "(200, 227, 227, 3)"
      ]
     },
     "execution_count": 16,
     "metadata": {},
     "output_type": "execute_result"
    }
   ],
   "source": [
    "tensor.shape"
   ]
  },
  {
   "cell_type": "code",
   "execution_count": 20,
   "id": "a2949e10-9fef-46b1-8d86-de184394d76b",
   "metadata": {},
   "outputs": [
    {
     "data": {
      "text/plain": [
       "(10, 227, 227)"
      ]
     },
     "execution_count": 20,
     "metadata": {},
     "output_type": "execute_result"
    }
   ],
   "source": [
    "tensor[0:10,:,:,0].shape"
   ]
  },
  {
   "cell_type": "code",
   "execution_count": 22,
   "id": "7eff36d6-da2c-4bae-9b75-b6cc8ca6b5b1",
   "metadata": {},
   "outputs": [
    {
     "data": {
      "text/plain": [
       "(200, 114, 114, 3)"
      ]
     },
     "execution_count": 22,
     "metadata": {},
     "output_type": "execute_result"
    }
   ],
   "source": [
    "#aca estamos seleccionando el sector inferior derecho de TODAS las imágenes (50%)\n",
    "# : representan a todas las imágenes / 113: punto horizontal hacia adeltante \n",
    "# 113: punto vertical hacia abajo / 3 representa los 3 colores\n",
    "tensor[:,113:,113:,:].shape"
   ]
  },
  {
   "cell_type": "markdown",
   "id": "cc7cf845-ad40-4b0e-89f5-8b893db99e4f",
   "metadata": {},
   "source": [
    "**Matplotlib**"
   ]
  },
  {
   "cell_type": "code",
   "execution_count": 47,
   "id": "600b7de2-11b4-4951-aeee-459c6cea9953",
   "metadata": {},
   "outputs": [],
   "source": [
    "from matplotlib import pyplot as plt\n",
    "import seaborn as sns\n",
    "x = np.linspace(0,10,1001)"
   ]
  },
  {
   "cell_type": "code",
   "execution_count": 48,
   "id": "db7b387c-ee5c-48e6-b70e-35b490b25a73",
   "metadata": {},
   "outputs": [
    {
     "data": {
      "text/plain": [
       "array([ 0.        ,  0.00999983,  0.01999867, ..., -0.527132  ,\n",
       "       -0.53560333, -0.54402111])"
      ]
     },
     "execution_count": 48,
     "metadata": {},
     "output_type": "execute_result"
    }
   ],
   "source": [
    "y"
   ]
  },
  {
   "cell_type": "code",
   "execution_count": 49,
   "id": "4ee72783-cf13-48ee-9e20-34b37bdb728d",
   "metadata": {},
   "outputs": [
    {
     "data": {
      "text/plain": [
       "array([ 0.        ,  0.00999983,  0.01999867, ..., -0.527132  ,\n",
       "       -0.53560333, -0.54402111])"
      ]
     },
     "execution_count": 49,
     "metadata": {},
     "output_type": "execute_result"
    }
   ],
   "source": [
    "y"
   ]
  },
  {
   "cell_type": "code",
   "execution_count": 50,
   "id": "30090027-3ffa-464b-9e6a-4d85f6719d68",
   "metadata": {},
   "outputs": [
    {
     "data": {
      "image/png": "[encoded data removed]",
      "text/plain": [
       "<Figure size 432x288 with 1 Axes>"
      ]
     },
     "metadata": {
      "needs_background": "light"
     },
     "output_type": "display_data"
    }
   ],
   "source": [
    "plt.plot(x,y, label='seno')\n",
    "plt.title('Funcion de sin(x)')\n",
    "plt.show()"
   ]
  },
  {
   "cell_type": "markdown",
   "id": "34dffa80-a19b-4030-a52f-302381337e46",
   "metadata": {},
   "source": [
    "Pandas"
   ]
  },
  {
   "cell_type": "code",
   "execution_count": 51,
   "id": "42a4bf1f-dbe9-4853-8457-2c72e22a8f9d",
   "metadata": {},
   "outputs": [],
   "source": [
    "import pandas as pd"
   ]
  },
  {
   "cell_type": "code",
   "execution_count": 55,
   "id": "faee3c59-1e32-4ffc-a8fe-9c102ee65521",
   "metadata": {},
   "outputs": [],
   "source": [
    "df = pd.read_csv('https://raw.githubusercontent.com/deeplearning-itba/Clase_1-Pesos-y-Alturas-Bayes/master/data/alturas-pesos-mils-train.csv', index_col=0)"
   ]
  },
  {
   "cell_type": "code",
   "execution_count": 58,
   "id": "baf20fb8-0e1c-4325-b080-8a23be71f2ca",
   "metadata": {},
   "outputs": [
    {
     "data": {
      "text/html": [
       "<div>\n",
       "<style scoped>\n",
       "    .dataframe tbody tr th:only-of-type {\n",
       "        vertical-align: middle;\n",
       "    }\n",
       "\n",
       "    .dataframe tbody tr th {\n",
       "        vertical-align: top;\n",
       "    }\n",
       "\n",
       "    .dataframe thead th {\n",
       "        text-align: right;\n",
       "    }\n",
       "</style>\n",
       "<table border=\"1\" class=\"dataframe\">\n",
       "  <thead>\n",
       "    <tr style=\"text-align: right;\">\n",
       "      <th></th>\n",
       "      <th>Genero</th>\n",
       "      <th>Peso</th>\n",
       "      <th>Altura</th>\n",
       "    </tr>\n",
       "  </thead>\n",
       "  <tbody>\n",
       "    <tr>\n",
       "      <th>7620</th>\n",
       "      <td>Mujer</td>\n",
       "      <td>61.235</td>\n",
       "      <td>162.402</td>\n",
       "    </tr>\n",
       "    <tr>\n",
       "      <th>1837</th>\n",
       "      <td>Hombre</td>\n",
       "      <td>97.432</td>\n",
       "      <td>181.908</td>\n",
       "    </tr>\n",
       "    <tr>\n",
       "      <th>3311</th>\n",
       "      <td>Hombre</td>\n",
       "      <td>73.324</td>\n",
       "      <td>172.459</td>\n",
       "    </tr>\n",
       "    <tr>\n",
       "      <th>9478</th>\n",
       "      <td>Mujer</td>\n",
       "      <td>55.193</td>\n",
       "      <td>157.748</td>\n",
       "    </tr>\n",
       "    <tr>\n",
       "      <th>7805</th>\n",
       "      <td>Mujer</td>\n",
       "      <td>56.886</td>\n",
       "      <td>151.798</td>\n",
       "    </tr>\n",
       "    <tr>\n",
       "      <th>6737</th>\n",
       "      <td>Mujer</td>\n",
       "      <td>59.834</td>\n",
       "      <td>158.623</td>\n",
       "    </tr>\n",
       "    <tr>\n",
       "      <th>4413</th>\n",
       "      <td>Hombre</td>\n",
       "      <td>77.618</td>\n",
       "      <td>172.705</td>\n",
       "    </tr>\n",
       "    <tr>\n",
       "      <th>6018</th>\n",
       "      <td>Mujer</td>\n",
       "      <td>68.889</td>\n",
       "      <td>169.225</td>\n",
       "    </tr>\n",
       "    <tr>\n",
       "      <th>5165</th>\n",
       "      <td>Mujer</td>\n",
       "      <td>53.874</td>\n",
       "      <td>155.487</td>\n",
       "    </tr>\n",
       "    <tr>\n",
       "      <th>600</th>\n",
       "      <td>Hombre</td>\n",
       "      <td>83.248</td>\n",
       "      <td>177.908</td>\n",
       "    </tr>\n",
       "  </tbody>\n",
       "</table>\n",
       "</div>"
      ],
      "text/plain": [
       "      Genero    Peso   Altura\n",
       "7620   Mujer  61.235  162.402\n",
       "1837  Hombre  97.432  181.908\n",
       "3311  Hombre  73.324  172.459\n",
       "9478   Mujer  55.193  157.748\n",
       "7805   Mujer  56.886  151.798\n",
       "6737   Mujer  59.834  158.623\n",
       "4413  Hombre  77.618  172.705\n",
       "6018   Mujer  68.889  169.225\n",
       "5165   Mujer  53.874  155.487\n",
       "600   Hombre  83.248  177.908"
      ]
     },
     "execution_count": 58,
     "metadata": {},
     "output_type": "execute_result"
    }
   ],
   "source": [
    "df.head(10)"
   ]
  },
  {
   "cell_type": "code",
   "execution_count": 57,
   "id": "32eef6f9-1c01-4124-ac78-f5fe5f515e0d",
   "metadata": {},
   "outputs": [
    {
     "data": {
      "text/html": [
       "<div>\n",
       "<style scoped>\n",
       "    .dataframe tbody tr th:only-of-type {\n",
       "        vertical-align: middle;\n",
       "    }\n",
       "\n",
       "    .dataframe tbody tr th {\n",
       "        vertical-align: top;\n",
       "    }\n",
       "\n",
       "    .dataframe thead th {\n",
       "        text-align: right;\n",
       "    }\n",
       "</style>\n",
       "<table border=\"1\" class=\"dataframe\">\n",
       "  <thead>\n",
       "    <tr style=\"text-align: right;\">\n",
       "      <th></th>\n",
       "      <th>Peso</th>\n",
       "      <th>Altura</th>\n",
       "    </tr>\n",
       "  </thead>\n",
       "  <tbody>\n",
       "    <tr>\n",
       "      <th>count</th>\n",
       "      <td>8000.000000</td>\n",
       "      <td>8000.000000</td>\n",
       "    </tr>\n",
       "    <tr>\n",
       "      <th>mean</th>\n",
       "      <td>72.802476</td>\n",
       "      <td>168.113424</td>\n",
       "    </tr>\n",
       "    <tr>\n",
       "      <th>std</th>\n",
       "      <td>14.624699</td>\n",
       "      <td>9.829018</td>\n",
       "    </tr>\n",
       "    <tr>\n",
       "      <th>min</th>\n",
       "      <td>31.207000</td>\n",
       "      <td>138.866000</td>\n",
       "    </tr>\n",
       "    <tr>\n",
       "      <th>25%</th>\n",
       "      <td>61.071750</td>\n",
       "      <td>160.765750</td>\n",
       "    </tr>\n",
       "    <tr>\n",
       "      <th>50%</th>\n",
       "      <td>72.748500</td>\n",
       "      <td>167.976500</td>\n",
       "    </tr>\n",
       "    <tr>\n",
       "      <th>75%</th>\n",
       "      <td>84.523250</td>\n",
       "      <td>175.320000</td>\n",
       "    </tr>\n",
       "    <tr>\n",
       "      <th>max</th>\n",
       "      <td>121.687000</td>\n",
       "      <td>199.824000</td>\n",
       "    </tr>\n",
       "  </tbody>\n",
       "</table>\n",
       "</div>"
      ],
      "text/plain": [
       "              Peso       Altura\n",
       "count  8000.000000  8000.000000\n",
       "mean     72.802476   168.113424\n",
       "std      14.624699     9.829018\n",
       "min      31.207000   138.866000\n",
       "25%      61.071750   160.765750\n",
       "50%      72.748500   167.976500\n",
       "75%      84.523250   175.320000\n",
       "max     121.687000   199.824000"
      ]
     },
     "execution_count": 57,
     "metadata": {},
     "output_type": "execute_result"
    }
   ],
   "source": [
    "df.describe()"
   ]
  },
  {
   "cell_type": "code",
   "execution_count": 64,
   "id": "ed4f1d1d-9ae6-443c-8d56-11211e7bf160",
   "metadata": {},
   "outputs": [
    {
     "data": {
      "text/html": [
       "<div>\n",
       "<style scoped>\n",
       "    .dataframe tbody tr th:only-of-type {\n",
       "        vertical-align: middle;\n",
       "    }\n",
       "\n",
       "    .dataframe tbody tr th {\n",
       "        vertical-align: top;\n",
       "    }\n",
       "\n",
       "    .dataframe thead th {\n",
       "        text-align: right;\n",
       "    }\n",
       "</style>\n",
       "<table border=\"1\" class=\"dataframe\">\n",
       "  <thead>\n",
       "    <tr style=\"text-align: right;\">\n",
       "      <th></th>\n",
       "      <th>Peso</th>\n",
       "      <th>Altura</th>\n",
       "    </tr>\n",
       "  </thead>\n",
       "  <tbody>\n",
       "    <tr>\n",
       "      <th>count</th>\n",
       "      <td>3998.000000</td>\n",
       "      <td>3998.000000</td>\n",
       "    </tr>\n",
       "    <tr>\n",
       "      <th>mean</th>\n",
       "      <td>61.137895</td>\n",
       "      <td>161.304713</td>\n",
       "    </tr>\n",
       "    <tr>\n",
       "      <th>std</th>\n",
       "      <td>8.671726</td>\n",
       "      <td>6.897148</td>\n",
       "    </tr>\n",
       "    <tr>\n",
       "      <th>min</th>\n",
       "      <td>31.207000</td>\n",
       "      <td>138.866000</td>\n",
       "    </tr>\n",
       "    <tr>\n",
       "      <th>25%</th>\n",
       "      <td>55.321000</td>\n",
       "      <td>156.630000</td>\n",
       "    </tr>\n",
       "    <tr>\n",
       "      <th>50%</th>\n",
       "      <td>61.201500</td>\n",
       "      <td>161.322500</td>\n",
       "    </tr>\n",
       "    <tr>\n",
       "      <th>75%</th>\n",
       "      <td>66.936000</td>\n",
       "      <td>165.952250</td>\n",
       "    </tr>\n",
       "    <tr>\n",
       "      <th>max</th>\n",
       "      <td>91.056000</td>\n",
       "      <td>186.469000</td>\n",
       "    </tr>\n",
       "  </tbody>\n",
       "</table>\n",
       "</div>"
      ],
      "text/plain": [
       "              Peso       Altura\n",
       "count  3998.000000  3998.000000\n",
       "mean     61.137895   161.304713\n",
       "std       8.671726     6.897148\n",
       "min      31.207000   138.866000\n",
       "25%      55.321000   156.630000\n",
       "50%      61.201500   161.322500\n",
       "75%      66.936000   165.952250\n",
       "max      91.056000   186.469000"
      ]
     },
     "execution_count": 64,
     "metadata": {},
     "output_type": "execute_result"
    }
   ],
   "source": [
    "df[df['Genero'] == 'Mujer'].describe()"
   ]
  },
  {
   "cell_type": "code",
   "execution_count": 80,
   "id": "7da02dd0-8b2a-4963-9407-5aa18245a0cf",
   "metadata": {},
   "outputs": [
    {
     "data": {
      "image/png": "[encoded data removed]",
      "text/plain": [
       "<Figure size 864x432 with 1 Axes>"
      ]
     },
     "metadata": {
      "needs_background": "light"
     },
     "output_type": "display_data"
    }
   ],
   "source": [
    "plt.figure(figsize=(12,6))\n",
    "ax = plt.gca()# defino los axis\n",
    "df.hist(column='Peso', bins=50, ax=ax)\n",
    "df[df['Genero'] == 'Hombre'].hist(column='Peso', bins=50, ax=ax, alpha=0.6) # con ax = ax tomo los mismos axis\n",
    "df[df['Genero'] == 'Mujer'].hist(column='Peso', bins=50, ax=ax, alpha=0.6) # con ax = ax tomo los mismos axis\n",
    "plt.show()"
   ]
  },
  {
   "cell_type": "code",
   "execution_count": 81,
   "id": "bb15fd8b-ee3a-4105-8e65-d969893f4977",
   "metadata": {},
   "outputs": [
    {
     "data": {
      "image/png": "[encoded data removed]",
      "text/plain": [
       "<Figure size 864x432 with 1 Axes>"
      ]
     },
     "metadata": {
      "needs_background": "light"
     },
     "output_type": "display_data"
    }
   ],
   "source": [
    "plt.figure(figsize=(12,6))\n",
    "ax = plt.gca() # defino los axis\n",
    "df.hist(column='Altura', bins=50, ax=ax)\n",
    "df[df['Genero'] == 'Hombre'].hist(column='Altura', bins=50, ax=ax, alpha=0.6) # con ax = ax tomo los mismos axis\n",
    "df[df['Genero'] == 'Mujer'].hist(column='Altura', bins=50, ax=ax, alpha=0.6) # con ax = ax tomo los mismos axis\n",
    "plt.show()"
   ]
  },
  {
   "cell_type": "markdown",
   "id": "6718ea30-59cf-499c-88ba-85781239170b",
   "metadata": {},
   "source": [
    "**PROBABILIDAD**"
   ]
  },
  {
   "cell_type": "code",
   "execution_count": null,
   "id": "c471656a-80c0-4230-be5c-3e5d81196109",
   "metadata": {},
   "outputs": [],
   "source": []
  }
 ],
 "metadata": {
  "kernelspec": {
   "display_name": "Python 3",
   "language": "python",
   "name": "python3"
  },
  "language_info": {
   "codemirror_mode": {
    "name": "ipython",
    "version": 3
   },
   "file_extension": ".py",
   "mimetype": "text/x-python",
   "name": "python",
   "nbconvert_exporter": "python",
   "pygments_lexer": "ipython3",
   "version": "3.8.8"
  },
  "toc-autonumbering": true,
  "toc-showcode": true,
  "toc-showmarkdowntxt": true
 },
 "nbformat": 4,
 "nbformat_minor": 5
}
